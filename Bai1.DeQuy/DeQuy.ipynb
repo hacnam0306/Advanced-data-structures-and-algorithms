{
 "cells": [
  {
   "cell_type": "code",
   "execution_count": 8,
   "id": "e3173622-488c-4f16-afc9-5536a69cb90c",
   "metadata": {},
   "outputs": [],
   "source": [
    "# Tìm giá trị của phần tử thứ n của 1 cấp số cộng có số hạng đầu là a"
   ]
  },
  {
   "cell_type": "code",
   "execution_count": 4,
   "id": "d65d2cc9-47c2-465d-bc51-a8d3ecb27bc3",
   "metadata": {},
   "outputs": [
    {
     "data": {
      "text/plain": [
       "3"
      ]
     },
     "execution_count": 4,
     "metadata": {},
     "output_type": "execute_result"
    }
   ],
   "source": [
    "def u(n,a,r):\n",
    "    if(n ==1):\n",
    "        return a\n",
    "    return r + u(n-1,a,r)\n",
    "\n",
    "u(2,1,2)"
   ]
  },
  {
   "cell_type": "code",
   "execution_count": null,
   "id": "3392b5d6-7b62-42ed-af79-5bd660ed0bc5",
   "metadata": {},
   "outputs": [],
   "source": [
    "# Tìm giá trị của phần tử thứ n của 1 cấp số nhana có số hạng đầu là a , công bội là q"
   ]
  },
  {
   "cell_type": "code",
   "execution_count": 7,
   "id": "26e0e6a8-0404-4655-80c6-d0626de73628",
   "metadata": {},
   "outputs": [
    {
     "data": {
      "text/plain": [
       "2"
      ]
     },
     "execution_count": 7,
     "metadata": {},
     "output_type": "execute_result"
    }
   ],
   "source": [
    "def u(n,a,q):\n",
    "    if(n==1): return a\n",
    "    return q * u(n-1,a,q)\n",
    "u(2,1,2)"
   ]
  },
  {
   "cell_type": "code",
   "execution_count": 9,
   "id": "405a651f-52aa-46f8-919c-9facc6ae6ef5",
   "metadata": {},
   "outputs": [],
   "source": [
    "# THuật toán biểu diễn số nhị phân của một số nguyên dương"
   ]
  },
  {
   "cell_type": "code",
   "execution_count": 20,
   "id": "bc791338-fe95-499b-8cd3-82887e5a91bd",
   "metadata": {},
   "outputs": [
    {
     "data": {
      "text/plain": [
       "1101"
      ]
     },
     "execution_count": 20,
     "metadata": {},
     "output_type": "execute_result"
    }
   ],
   "source": [
    "def toBinary(number):\n",
    "    if(number == 1):\n",
    "        return 1\n",
    "    return number % 2 + 10 * toBinary(int(number/2))      \n",
    "toBinary(13)"
   ]
  },
  {
   "cell_type": "code",
   "execution_count": null,
   "id": "f876d85b-5f5b-4fb1-b3b0-0bb1a200ca6d",
   "metadata": {},
   "outputs": [],
   "source": [
    "Số nguyên n (0 <= n <= 12)\n",
    "\n",
    "Output\n",
    "Quá trình tính giai thừa của n (Xem ví dụ)\n",
    "\n",
    "Example\n",
    "Input:\n",
    "4\n",
    "\n",
    "Output:\n",
    "0! = 1\n",
    "1! = 1\n",
    "2! = 2\n",
    "3! = 6\n",
    "4! = 24"
   ]
  },
  {
   "cell_type": "code",
   "execution_count": 10,
   "id": "99f62afc-77aa-4491-a892-fc1e6550d083",
   "metadata": {},
   "outputs": [
    {
     "name": "stdout",
     "output_type": "stream",
     "text": [
      "0! = 1\n",
      "1! = 1\n",
      "2! = 2\n",
      "3! = 6\n",
      "4! = 24\n"
     ]
    },
    {
     "data": {
      "text/plain": [
       "24"
      ]
     },
     "execution_count": 10,
     "metadata": {},
     "output_type": "execute_result"
    }
   ],
   "source": [
    "def tinhGiaiThua(n):\n",
    "    if(n==0):\n",
    "        print(\"0! = 1\")\n",
    "        return 1\n",
    "    result  =  n * tinhGiaiThua(n-1) \n",
    "    print(f'{n}! = {result}')\n",
    "    return result\n",
    "tinhGiaiThua(4)"
   ]
  },
  {
   "cell_type": "code",
   "execution_count": null,
   "id": "7446648f-969b-4241-86f0-93f03d86a9d1",
   "metadata": {},
   "outputs": [],
   "source": [
    "Sử dụng giải thuật đệ quy để xác định chữ số lớn nhất trong một số nguyên không âm\n",
    "\n",
    "Input\n",
    "Dòng 1: t - số lượng các testcase\n",
    "t dòng tiếp theo: mỗi dòng là một số nguyên không âm 32 bit\n",
    "\n",
    "Output\n",
    "Với mỗi testcase, in ra số đã cho và chữ số lớn nhất trong đó\n",
    "\n",
    "Example\n",
    "Input:\n",
    "5\n",
    "3506612281\n",
    "1858456271\n",
    "0\n",
    "4247701921\n",
    "2400551529\n",
    "\n",
    "Output:\n",
    "3506612281: 8\n",
    "1858456271: 8\n",
    "         0: 0\n",
    "4247701921: 9\n",
    "2400551529: 9"
   ]
  },
  {
   "cell_type": "code",
   "execution_count": null,
   "id": "a3d5632b-7cd3-4b87-a8cb-accf5cb37f80",
   "metadata": {},
   "outputs": [
    {
     "name": "stdin",
     "output_type": "stream",
     "text": [
      " 2\n",
      " 3123\n"
     ]
    },
    {
     "name": "stdout",
     "output_type": "stream",
     "text": [
      "3123: 3\n"
     ]
    }
   ],
   "source": [
    "def find_largest_digit(number):\n",
    "  largest_digit = 0\n",
    "  initNumber = number\n",
    "  while number:\n",
    "    # Extract the current digit\n",
    "    current_digit = number % 10\n",
    "\n",
    "    # Update the largest_digit if necessary\n",
    "    if current_digit > largest_digit:\n",
    "      largest_digit = current_digit\n",
    "    # Divide the number by 10 to get the next digit\n",
    "    number //= 10\n",
    "    return largest_digit\n",
    "t = int(input())\n",
    "for _ in range(t):\n",
    "  number = int(input())\n",
    "  largest_digit = find_largest_digit(number)\n",
    "  print(f\"{number}: {largest_digit}\")"
   ]
  },
  {
   "cell_type": "code",
   "execution_count": null,
   "id": "64983031-55a9-4b8a-8e74-006213f7f9ac",
   "metadata": {},
   "outputs": [],
   "source": [
    "Dùng giải thuật đệ quy để tìm ước chung lớn nhất của hai số nguyên không âm không đồng thời bằng 0.\n",
    "\n",
    "Input\n",
    "Dòng 1: t - số lượng testcase\n",
    "t dòng tiếp theo: mỗi dòng có 2 số nguyên không âm không đồng thời bằng 0, ngăn nhau bởi dấu cách\n",
    "\n",
    "Output\n",
    "Với mỗi testcase, in ra trên một dòng ướng chung lớn nhất của hai số nguyên tương ứng.\n",
    "\n",
    "Example\n",
    "Input:\n",
    "5\n",
    "420 429\n",
    "366 220\n",
    "732 414\n",
    "134 550\n",
    "818 581\n",
    "\n",
    "Output:\n",
    "3\n",
    "2\n",
    "6\n",
    "2\n",
    "1"
   ]
  },
  {
   "cell_type": "code",
   "execution_count": 2,
   "id": "2e5db253-3784-49d5-ae1e-1bb3e2e1bd12",
   "metadata": {},
   "outputs": [
    {
     "data": {
      "text/plain": [
       "3"
      ]
     },
     "execution_count": 2,
     "metadata": {},
     "output_type": "execute_result"
    }
   ],
   "source": [
    "def ucln(a,b):\n",
    "    if a == b:\n",
    "        return a\n",
    "    if a > b:\n",
    "        a-=b\n",
    "    if a < b:\n",
    "        b-=a\n",
    "    return ucln(a,b)\n",
    "t = int(input())\n",
    "\n",
    "# Process each test case\n",
    "for _ in range(t):\n",
    "  # Read two non-negative integers\n",
    "  num1, num2 = map(int, input().split())\n",
    "\n",
    "  # Find the largest common divisor\n",
    "  largest_common_divisor = ucln(num1, num2)\n",
    "\n",
    "  # Print the largest common divisor\n",
    "  print(largest_common_divisor)\n",
    "ucln(420,429)"
   ]
  },
  {
   "cell_type": "code",
   "execution_count": 112,
   "id": "d5f2f16d-515c-43b0-bb92-bdb0c95d5caf",
   "metadata": {},
   "outputs": [
    {
     "name": "stdin",
     "output_type": "stream",
     "text": [
      " 16\n",
      " 16\n"
     ]
    },
    {
     "name": "stdout",
     "output_type": "stream",
     "text": [
      "4.5153360434\n"
     ]
    },
    {
     "ename": "KeyboardInterrupt",
     "evalue": "Interrupted by user",
     "output_type": "error",
     "traceback": [
      "\u001b[0;31m---------------------------------------------------------------------------\u001b[0m",
      "\u001b[0;31mKeyboardInterrupt\u001b[0m                         Traceback (most recent call last)",
      "Cell \u001b[0;32mIn[112], line 12\u001b[0m\n\u001b[1;32m      9\u001b[0m t \u001b[38;5;241m=\u001b[39m \u001b[38;5;28mint\u001b[39m(\u001b[38;5;28minput\u001b[39m())\n\u001b[1;32m     11\u001b[0m \u001b[38;5;28;01mwhile\u001b[39;00m(t):\n\u001b[0;32m---> 12\u001b[0m     n \u001b[38;5;241m=\u001b[39m \u001b[38;5;28mint\u001b[39m(\u001b[38;5;28;43minput\u001b[39;49m\u001b[43m(\u001b[49m\u001b[43m)\u001b[49m)\n\u001b[1;32m     13\u001b[0m     \u001b[38;5;28mprint\u001b[39m(\u001b[38;5;124m'\u001b[39m\u001b[38;5;132;01m{:.10f}\u001b[39;00m\u001b[38;5;124m'\u001b[39m\u001b[38;5;241m.\u001b[39mformat(nested_sqrt(n)))\n\u001b[1;32m     14\u001b[0m     t \u001b[38;5;241m-\u001b[39m\u001b[38;5;241m=\u001b[39m \u001b[38;5;241m1\u001b[39m\n",
      "File \u001b[0;32m/Library/Frameworks/Python.framework/Versions/3.11/lib/python3.11/site-packages/ipykernel/kernelbase.py:1282\u001b[0m, in \u001b[0;36mKernel.raw_input\u001b[0;34m(self, prompt)\u001b[0m\n\u001b[1;32m   1280\u001b[0m     msg \u001b[38;5;241m=\u001b[39m \u001b[38;5;124m\"\u001b[39m\u001b[38;5;124mraw_input was called, but this frontend does not support input requests.\u001b[39m\u001b[38;5;124m\"\u001b[39m\n\u001b[1;32m   1281\u001b[0m     \u001b[38;5;28;01mraise\u001b[39;00m StdinNotImplementedError(msg)\n\u001b[0;32m-> 1282\u001b[0m \u001b[38;5;28;01mreturn\u001b[39;00m \u001b[38;5;28;43mself\u001b[39;49m\u001b[38;5;241;43m.\u001b[39;49m\u001b[43m_input_request\u001b[49m\u001b[43m(\u001b[49m\n\u001b[1;32m   1283\u001b[0m \u001b[43m    \u001b[49m\u001b[38;5;28;43mstr\u001b[39;49m\u001b[43m(\u001b[49m\u001b[43mprompt\u001b[49m\u001b[43m)\u001b[49m\u001b[43m,\u001b[49m\n\u001b[1;32m   1284\u001b[0m \u001b[43m    \u001b[49m\u001b[38;5;28;43mself\u001b[39;49m\u001b[38;5;241;43m.\u001b[39;49m\u001b[43m_parent_ident\u001b[49m\u001b[43m[\u001b[49m\u001b[38;5;124;43m\"\u001b[39;49m\u001b[38;5;124;43mshell\u001b[39;49m\u001b[38;5;124;43m\"\u001b[39;49m\u001b[43m]\u001b[49m\u001b[43m,\u001b[49m\n\u001b[1;32m   1285\u001b[0m \u001b[43m    \u001b[49m\u001b[38;5;28;43mself\u001b[39;49m\u001b[38;5;241;43m.\u001b[39;49m\u001b[43mget_parent\u001b[49m\u001b[43m(\u001b[49m\u001b[38;5;124;43m\"\u001b[39;49m\u001b[38;5;124;43mshell\u001b[39;49m\u001b[38;5;124;43m\"\u001b[39;49m\u001b[43m)\u001b[49m\u001b[43m,\u001b[49m\n\u001b[1;32m   1286\u001b[0m \u001b[43m    \u001b[49m\u001b[43mpassword\u001b[49m\u001b[38;5;241;43m=\u001b[39;49m\u001b[38;5;28;43;01mFalse\u001b[39;49;00m\u001b[43m,\u001b[49m\n\u001b[1;32m   1287\u001b[0m \u001b[43m\u001b[49m\u001b[43m)\u001b[49m\n",
      "File \u001b[0;32m/Library/Frameworks/Python.framework/Versions/3.11/lib/python3.11/site-packages/ipykernel/kernelbase.py:1325\u001b[0m, in \u001b[0;36mKernel._input_request\u001b[0;34m(self, prompt, ident, parent, password)\u001b[0m\n\u001b[1;32m   1322\u001b[0m \u001b[38;5;28;01mexcept\u001b[39;00m \u001b[38;5;167;01mKeyboardInterrupt\u001b[39;00m:\n\u001b[1;32m   1323\u001b[0m     \u001b[38;5;66;03m# re-raise KeyboardInterrupt, to truncate traceback\u001b[39;00m\n\u001b[1;32m   1324\u001b[0m     msg \u001b[38;5;241m=\u001b[39m \u001b[38;5;124m\"\u001b[39m\u001b[38;5;124mInterrupted by user\u001b[39m\u001b[38;5;124m\"\u001b[39m\n\u001b[0;32m-> 1325\u001b[0m     \u001b[38;5;28;01mraise\u001b[39;00m \u001b[38;5;167;01mKeyboardInterrupt\u001b[39;00m(msg) \u001b[38;5;28;01mfrom\u001b[39;00m \u001b[38;5;28;01mNone\u001b[39;00m\n\u001b[1;32m   1326\u001b[0m \u001b[38;5;28;01mexcept\u001b[39;00m \u001b[38;5;167;01mException\u001b[39;00m:\n\u001b[1;32m   1327\u001b[0m     \u001b[38;5;28mself\u001b[39m\u001b[38;5;241m.\u001b[39mlog\u001b[38;5;241m.\u001b[39mwarning(\u001b[38;5;124m\"\u001b[39m\u001b[38;5;124mInvalid Message:\u001b[39m\u001b[38;5;124m\"\u001b[39m, exc_info\u001b[38;5;241m=\u001b[39m\u001b[38;5;28;01mTrue\u001b[39;00m)\n",
      "\u001b[0;31mKeyboardInterrupt\u001b[0m: Interrupted by user"
     ]
    }
   ],
   "source": [
    "# your code goes here\n",
    "import math\n",
    "def nested_sqrt(n):\n",
    "    if n == 1:\n",
    "        return math.sqrt(1)\n",
    "    else:\n",
    "        return math.sqrt(n + nested_sqrt(n-1))\n",
    "\n",
    "t = int(input())\n",
    "\n",
    "while(t):\n",
    "    n = int(input())\n",
    "    print('{:.10f}'.format(nested_sqrt(n)))\n",
    "    t -= 1"
   ]
  },
  {
   "cell_type": "code",
   "execution_count": 119,
   "id": "8cb80029-7a16-4dbf-995a-c40f51bb560e",
   "metadata": {},
   "outputs": [
    {
     "name": "stdin",
     "output_type": "stream",
     "text": [
      " 5\n",
      " 11 37 70 90 53\n"
     ]
    },
    {
     "name": "stdout",
     "output_type": "stream",
     "text": [
      "160\n"
     ]
    }
   ],
   "source": [
    "# your code goes here\n",
    "def sumEven(arr, n, index):\n",
    "  total = 0\n",
    "  if index >= n:\n",
    "    return total\n",
    "  else:\n",
    "    if arr[index] % 2 == 0:\n",
    "      total += arr[index]\n",
    "    return total + sumEven(arr, n, index + 1)\n",
    "\n",
    "n = int(input())\n",
    "arr = [int(x) for x in input().split()]\n",
    "total = sumEven(arr, n, 0)\n",
    "print(total)\n"
   ]
  },
  {
   "cell_type": "code",
   "execution_count": 13,
   "id": "c26f6842-50f0-4874-b00d-8a7b8ac78df4",
   "metadata": {},
   "outputs": [
    {
     "name": "stdin",
     "output_type": "stream",
     "text": [
      " 1\n",
      " 6\n"
     ]
    },
    {
     "name": "stdout",
     "output_type": "stream",
     "text": [
      "4.4071428571\n"
     ]
    }
   ],
   "source": [
    "def cal(n):\n",
    "    if n == 1:\n",
    "        return 1/2\n",
    "    return n/(n+1) + cal(n-1)\n",
    "t = int(input())\n",
    "for _ in range(t):\n",
    "  number = int(input())\n",
    "  largest_digit = cal(number)\n",
    "  print('{:.10f}'.format(largest_digit))\n"
   ]
  },
  {
   "cell_type": "code",
   "execution_count": 14,
   "id": "009730a8-b461-47e3-9cf7-558f6fd38bd8",
   "metadata": {},
   "outputs": [
    {
     "name": "stdin",
     "output_type": "stream",
     "text": [
      " 2\n",
      " -10 -2 -5 -6 -9\n"
     ]
    },
    {
     "ename": "ValueError",
     "evalue": "invalid literal for int() with base 10: '-10 -2 -5 -6 -9'",
     "output_type": "error",
     "traceback": [
      "\u001b[0;31m---------------------------------------------------------------------------\u001b[0m",
      "\u001b[0;31mValueError\u001b[0m                                Traceback (most recent call last)",
      "Cell \u001b[0;32mIn[14], line 19\u001b[0m\n\u001b[1;32m     16\u001b[0m t \u001b[38;5;241m=\u001b[39m \u001b[38;5;28mint\u001b[39m(\u001b[38;5;28minput\u001b[39m())  \u001b[38;5;66;03m# Số lượng testcase\u001b[39;00m\n\u001b[1;32m     18\u001b[0m \u001b[38;5;28;01mfor\u001b[39;00m _ \u001b[38;5;129;01min\u001b[39;00m \u001b[38;5;28mrange\u001b[39m(t):\n\u001b[0;32m---> 19\u001b[0m   n \u001b[38;5;241m=\u001b[39m \u001b[38;5;28;43mint\u001b[39;49m\u001b[43m(\u001b[49m\u001b[38;5;28;43minput\u001b[39;49m\u001b[43m(\u001b[49m\u001b[43m)\u001b[49m\u001b[43m)\u001b[49m  \u001b[38;5;66;03m# Số lượng phần tử của mảng\u001b[39;00m\n\u001b[1;32m     20\u001b[0m   arr \u001b[38;5;241m=\u001b[39m \u001b[38;5;28mlist\u001b[39m(\u001b[38;5;28mmap\u001b[39m(\u001b[38;5;28mfloat\u001b[39m, \u001b[38;5;28minput\u001b[39m()\u001b[38;5;241m.\u001b[39msplit()))  \u001b[38;5;66;03m# Đọc dãy số\u001b[39;00m\n\u001b[1;32m     22\u001b[0m   \u001b[38;5;28;01mif\u001b[39;00m is_all_negative(arr):\n",
      "\u001b[0;31mValueError\u001b[0m: invalid literal for int() with base 10: '-10 -2 -5 -6 -9'"
     ]
    }
   ],
   "source": [
    "def is_all_negative(arr):\n",
    "\n",
    "  for num in arr:\n",
    "    if num >= 0:\n",
    "      return False\n",
    "  return True\n",
    "\n",
    "t = int(input())  # Số lượng testcase\n",
    "\n",
    "for _ in range(t):\n",
    "  n = int(input())  # Số lượng phần tử của mảng\n",
    "  arr = list(map(float, input().split()))  # Đọc dãy số\n",
    "\n",
    "  if is_all_negative(arr):\n",
    "    print(\"Yes\")\n",
    "  else:\n",
    "    print(\"No\")"
   ]
  },
  {
   "cell_type": "code",
   "execution_count": null,
   "id": "619380b3-0658-4f21-962f-ff468c25303e",
   "metadata": {},
   "outputs": [],
   "source": [
    "    Sử dụng đệ quy để xác định giá trị phần tử thứ n của hai dãy sau:\n",
    "    \n",
    "    X(0) = 1\n",
    "    Y(0) = 0\n",
    "    X(n) = X(n-1) + Y(n-1)\n",
    "    Y(n) = 3*X(n-1) + Y(n-1)\n",
    "    \n",
    "    Input\n",
    "    Dòng 1: t - số lượng testcase\n",
    "    t dòng tiếp theo: mỗi dòng là một sô nguyên không âm n.\n",
    "    \n",
    "    Output\n",
    "    Với mỗi testcase, in ra trên một dòng hai số nguyên lần lượt là giá trị của X(n) và Y(n)\n",
    "    \n",
    "    Example\n",
    "    Input:\n",
    "    5\n",
    "    1\n",
    "    5\n",
    "    17\n",
    "    1\n",
    "    8\n",
    "    \n",
    "    Output:\n",
    "    1 3\n",
    "    76 132\n",
    "    13160704 22795008\n",
    "    1 3\n",
    "    1552 2688"
   ]
  },
  {
   "cell_type": "code",
   "execution_count": 22,
   "id": "f264cc40-93c4-4189-894f-3da6f86e7308",
   "metadata": {},
   "outputs": [
    {
     "name": "stdin",
     "output_type": "stream",
     "text": [
      " 1\n",
      " 1\n"
     ]
    },
    {
     "name": "stdout",
     "output_type": "stream",
     "text": [
      "1 3\n"
     ]
    }
   ],
   "source": [
    "def calX(n):\n",
    "    if n == 0:\n",
    "        return 1\n",
    "    return calX(n-1) + calY(n-1)\n",
    "def calY(n):\n",
    "    if n == 0:\n",
    "        return 0\n",
    "    return 3 * calX(n-1) + calY(n-1)\n",
    "t = int(input())  # Số lượng testcase\n",
    "for _ in range(t):\n",
    "    n = int(input())  # Số lượng phần tử của mảng\n",
    "    print(f\"{calX(n)} {calY(n)}\")\n"
   ]
  },
  {
   "cell_type": "code",
   "execution_count": 24,
   "id": "4347b81d-9bbc-4367-97c1-42c148eb5d59",
   "metadata": {},
   "outputs": [
    {
     "ename": "IndentationError",
     "evalue": "unindent does not match any outer indentation level (<tokenize>, line 21)",
     "output_type": "error",
     "traceback": [
      "\u001b[0;36m  File \u001b[0;32m<tokenize>:21\u001b[0;36m\u001b[0m\n\u001b[0;31m    print(f\"{x} {y}\")\u001b[0m\n\u001b[0m    ^\u001b[0m\n\u001b[0;31mIndentationError\u001b[0m\u001b[0;31m:\u001b[0m unindent does not match any outer indentation level\n"
     ]
    }
   ],
   "source": []
  },
  {
   "cell_type": "code",
   "execution_count": 30,
   "id": "937f31ec-d223-4272-b445-b677ab9bb8fa",
   "metadata": {},
   "outputs": [
    {
     "name": "stdin",
     "output_type": "stream",
     "text": [
      " 1\n",
      " 4.073916  4\n"
     ]
    },
    {
     "name": "stdout",
     "output_type": "stream",
     "text": [
      "35.11852969\n"
     ]
    }
   ],
   "source": [
    "import math\n",
    "def tinhGiaiThua(n):\n",
    "    if(n==0):\n",
    "        return 1\n",
    "    result  =  n * tinhGiaiThua(n-1) \n",
    "    return result\n",
    "def cal(x,n):\n",
    "    if(n==1):\n",
    "        return x\n",
    "    return math.pow(x,n)/tinhGiaiThua(n) + cal(x,n-1)\n",
    "t = int(input())\n",
    "for _ in range(t):\n",
    "  num1, num2 = map(float,input().split())\n",
    "  largest_digit = cal(num1,num2)\n",
    "  print('{:.8f}'.format(largest_digit))\n"
   ]
  },
  {
   "cell_type": "code",
   "execution_count": 35,
   "id": "ec190275-6526-4c40-a6ac-78e6ff4dc23d",
   "metadata": {},
   "outputs": [
    {
     "name": "stdin",
     "output_type": "stream",
     "text": [
      " 5\n",
      " 11 37 70 90 53\n"
     ]
    },
    {
     "name": "stdout",
     "output_type": "stream",
     "text": [
      "160\n"
     ]
    }
   ],
   "source": [
    "# your code goes here\n",
    "def countPositive(arr):\n",
    "  count = 0\n",
    "  for x in arr:\n",
    "      if x % 2 == 0:\n",
    "          count+=x \n",
    "  return count\n",
    "\n",
    "n = int(input())\n",
    "arr = [int(x) for x in input().split()]\n",
    "total = countPositive(arr)\n",
    "print(total)\n"
   ]
  },
  {
   "cell_type": "code",
   "execution_count": null,
   "id": "0af18543-8c1f-4661-b4f4-9293081b3867",
   "metadata": {},
   "outputs": [],
   "source": [
    "Dòng 1: t - số lượng testcase\n",
    "t dòng tiếp theo: mỗi dòng là một số nguyên dương\n",
    "\n",
    "Output\n",
    "Với mỗi testcase, in ra giá trị của hàm trên một dòng với 10 chữ số thập phân sau dấu phảy\n",
    "\n",
    "Example\n",
    "Input:\n",
    "5\n",
    "16\n",
    "4\n",
    "11\n",
    "18\n",
    "4\n",
    "\n",
    "Output:\n",
    "1.7579327566\n",
    "1.7487627133\n",
    "1.7579327373\n",
    "1.7579327566\n",
    "1.7487627133\n"
   ]
  },
  {
   "cell_type": "code",
   "execution_count": 41,
   "id": "8351f184-16e8-4e87-ac33-45389f0afe6f",
   "metadata": {},
   "outputs": [
    {
     "data": {
      "text/plain": [
       "4.246234939493181"
      ]
     },
     "execution_count": 41,
     "metadata": {},
     "output_type": "execute_result"
    }
   ],
   "source": []
  },
  {
   "cell_type": "code",
   "execution_count": null,
   "id": "91624329-9acb-4996-a236-be2771f6ebb6",
   "metadata": {},
   "outputs": [],
   "source": []
  }
 ],
 "metadata": {
  "kernelspec": {
   "display_name": "Python 3 (ipykernel)",
   "language": "python",
   "name": "python3"
  },
  "language_info": {
   "codemirror_mode": {
    "name": "ipython",
    "version": 3
   },
   "file_extension": ".py",
   "mimetype": "text/x-python",
   "name": "python",
   "nbconvert_exporter": "python",
   "pygments_lexer": "ipython3",
   "version": "3.11.2"
  }
 },
 "nbformat": 4,
 "nbformat_minor": 5
}
