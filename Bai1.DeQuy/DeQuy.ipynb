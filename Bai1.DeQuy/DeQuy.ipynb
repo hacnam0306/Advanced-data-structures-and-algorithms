{
 "cells": [
  {
   "cell_type": "code",
   "execution_count": 8,
   "id": "e3173622-488c-4f16-afc9-5536a69cb90c",
   "metadata": {},
   "outputs": [],
   "source": [
    "# Tìm giá trị của phần tử thứ n của 1 cấp số cộng có số hạng đầu là a"
   ]
  },
  {
   "cell_type": "code",
   "execution_count": 4,
   "id": "d65d2cc9-47c2-465d-bc51-a8d3ecb27bc3",
   "metadata": {},
   "outputs": [
    {
     "data": {
      "text/plain": [
       "3"
      ]
     },
     "execution_count": 4,
     "metadata": {},
     "output_type": "execute_result"
    }
   ],
   "source": [
    "def u(n,a,r):\n",
    "    if(n ==1):\n",
    "        return a\n",
    "    return r + u(n-1,a,r)\n",
    "\n",
    "u(2,1,2)"
   ]
  },
  {
   "cell_type": "code",
   "execution_count": null,
   "id": "3392b5d6-7b62-42ed-af79-5bd660ed0bc5",
   "metadata": {},
   "outputs": [],
   "source": [
    "# Tìm giá trị của phần tử thứ n của 1 cấp số nhana có số hạng đầu là a , công bội là q"
   ]
  },
  {
   "cell_type": "code",
   "execution_count": 7,
   "id": "26e0e6a8-0404-4655-80c6-d0626de73628",
   "metadata": {},
   "outputs": [
    {
     "data": {
      "text/plain": [
       "2"
      ]
     },
     "execution_count": 7,
     "metadata": {},
     "output_type": "execute_result"
    }
   ],
   "source": [
    "def u(n,a,q):\n",
    "    if(n==1): return a\n",
    "    return q * u(n-1,a,q)\n",
    "u(2,1,2)"
   ]
  },
  {
   "cell_type": "code",
   "execution_count": 9,
   "id": "405a651f-52aa-46f8-919c-9facc6ae6ef5",
   "metadata": {},
   "outputs": [],
   "source": [
    "# THuật toán biểu diễn số nhị phân của một số nguyên dương"
   ]
  },
  {
   "cell_type": "code",
   "execution_count": 20,
   "id": "bc791338-fe95-499b-8cd3-82887e5a91bd",
   "metadata": {},
   "outputs": [
    {
     "data": {
      "text/plain": [
       "1101"
      ]
     },
     "execution_count": 20,
     "metadata": {},
     "output_type": "execute_result"
    }
   ],
   "source": [
    "def toBinary(number):\n",
    "    if(number == 1):\n",
    "        return 1\n",
    "    return number % 2 + 10 * toBinary(int(number/2))      \n",
    "toBinary(13)"
   ]
  },
  {
   "cell_type": "code",
   "execution_count": null,
   "id": "f876d85b-5f5b-4fb1-b3b0-0bb1a200ca6d",
   "metadata": {},
   "outputs": [],
   "source": [
    "Số nguyên n (0 <= n <= 12)\n",
    "\n",
    "Output\n",
    "Quá trình tính giai thừa của n (Xem ví dụ)\n",
    "\n",
    "Example\n",
    "Input:\n",
    "4\n",
    "\n",
    "Output:\n",
    "0! = 1\n",
    "1! = 1\n",
    "2! = 2\n",
    "3! = 6\n",
    "4! = 24"
   ]
  },
  {
   "cell_type": "code",
   "execution_count": 10,
   "id": "99f62afc-77aa-4491-a892-fc1e6550d083",
   "metadata": {},
   "outputs": [
    {
     "name": "stdout",
     "output_type": "stream",
     "text": [
      "0! = 1\n",
      "1! = 1\n",
      "2! = 2\n",
      "3! = 6\n",
      "4! = 24\n"
     ]
    },
    {
     "data": {
      "text/plain": [
       "24"
      ]
     },
     "execution_count": 10,
     "metadata": {},
     "output_type": "execute_result"
    }
   ],
   "source": [
    "def tinhGiaiThua(n):\n",
    "    if(n==0):\n",
    "        print(\"0! = 1\")\n",
    "        return 1\n",
    "    result  =  n * tinhGiaiThua(n-1) \n",
    "    print(f'{n}! = {result}')\n",
    "    return result\n",
    "tinhGiaiThua(4)"
   ]
  },
  {
   "cell_type": "code",
   "execution_count": null,
   "id": "7446648f-969b-4241-86f0-93f03d86a9d1",
   "metadata": {},
   "outputs": [],
   "source": [
    "Sử dụng giải thuật đệ quy để xác định chữ số lớn nhất trong một số nguyên không âm\n",
    "\n",
    "Input\n",
    "Dòng 1: t - số lượng các testcase\n",
    "t dòng tiếp theo: mỗi dòng là một số nguyên không âm 32 bit\n",
    "\n",
    "Output\n",
    "Với mỗi testcase, in ra số đã cho và chữ số lớn nhất trong đó\n",
    "\n",
    "Example\n",
    "Input:\n",
    "5\n",
    "3506612281\n",
    "1858456271\n",
    "0\n",
    "4247701921\n",
    "2400551529\n",
    "\n",
    "Output:\n",
    "3506612281: 8\n",
    "1858456271: 8\n",
    "         0: 0\n",
    "4247701921: 9\n",
    "2400551529: 9"
   ]
  },
  {
   "cell_type": "code",
   "execution_count": null,
   "id": "a3d5632b-7cd3-4b87-a8cb-accf5cb37f80",
   "metadata": {},
   "outputs": [
    {
     "name": "stdin",
     "output_type": "stream",
     "text": [
      " 2\n",
      " 3123\n"
     ]
    },
    {
     "name": "stdout",
     "output_type": "stream",
     "text": [
      "3123: 3\n"
     ]
    }
   ],
   "source": [
    "def find_largest_digit(number):\n",
    "  largest_digit = 0\n",
    "  initNumber = number\n",
    "  while number:\n",
    "    # Extract the current digit\n",
    "    current_digit = number % 10\n",
    "\n",
    "    # Update the largest_digit if necessary\n",
    "    if current_digit > largest_digit:\n",
    "      largest_digit = current_digit\n",
    "    # Divide the number by 10 to get the next digit\n",
    "    number //= 10\n",
    "    return largest_digit\n",
    "t = int(input())\n",
    "for _ in range(t):\n",
    "  number = int(input())\n",
    "  largest_digit = find_largest_digit(number)\n",
    "  print(f\"{number}: {largest_digit}\")"
   ]
  },
  {
   "cell_type": "code",
   "execution_count": null,
   "id": "2e5db253-3784-49d5-ae1e-1bb3e2e1bd12",
   "metadata": {},
   "outputs": [],
   "source": []
  }
 ],
 "metadata": {
  "kernelspec": {
   "display_name": "Python 3 (ipykernel)",
   "language": "python",
   "name": "python3"
  },
  "language_info": {
   "codemirror_mode": {
    "name": "ipython",
    "version": 3
   },
   "file_extension": ".py",
   "mimetype": "text/x-python",
   "name": "python",
   "nbconvert_exporter": "python",
   "pygments_lexer": "ipython3",
   "version": "3.11.2"
  }
 },
 "nbformat": 4,
 "nbformat_minor": 5
}
