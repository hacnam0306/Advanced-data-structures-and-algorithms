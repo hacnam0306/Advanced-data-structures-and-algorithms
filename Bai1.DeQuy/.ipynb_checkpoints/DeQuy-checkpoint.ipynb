{
 "cells": [
  {
   "cell_type": "code",
   "execution_count": 8,
   "id": "e3173622-488c-4f16-afc9-5536a69cb90c",
   "metadata": {},
   "outputs": [],
   "source": [
    "# Tìm giá trị của phần tử thứ n của 1 cấp số cộng có số hạng đầu là a"
   ]
  },
  {
   "cell_type": "code",
   "execution_count": 4,
   "id": "d65d2cc9-47c2-465d-bc51-a8d3ecb27bc3",
   "metadata": {},
   "outputs": [
    {
     "data": {
      "text/plain": [
       "3"
      ]
     },
     "execution_count": 4,
     "metadata": {},
     "output_type": "execute_result"
    }
   ],
   "source": [
    "def u(n,a,r):\n",
    "    if(n ==1):\n",
    "        return a\n",
    "    return r + u(n-1,a,r)\n",
    "\n",
    "u(2,1,2)"
   ]
  },
  {
   "cell_type": "code",
   "execution_count": null,
   "id": "3392b5d6-7b62-42ed-af79-5bd660ed0bc5",
   "metadata": {},
   "outputs": [],
   "source": [
    "# Tìm giá trị của phần tử thứ n của 1 cấp số nhana có số hạng đầu là a , công bội là q"
   ]
  },
  {
   "cell_type": "code",
   "execution_count": 7,
   "id": "26e0e6a8-0404-4655-80c6-d0626de73628",
   "metadata": {},
   "outputs": [
    {
     "data": {
      "text/plain": [
       "2"
      ]
     },
     "execution_count": 7,
     "metadata": {},
     "output_type": "execute_result"
    }
   ],
   "source": [
    "def u(n,a,q):\n",
    "    if(n==1): return a\n",
    "    return q * u(n-1,a,q)\n",
    "u(2,1,2)"
   ]
  },
  {
   "cell_type": "code",
   "execution_count": 9,
   "id": "405a651f-52aa-46f8-919c-9facc6ae6ef5",
   "metadata": {},
   "outputs": [],
   "source": [
    "# THuật toán biểu diễn số nhị phân của một số nguyên dương"
   ]
  },
  {
   "cell_type": "code",
   "execution_count": 18,
   "id": "bc791338-fe95-499b-8cd3-82887e5a91bd",
   "metadata": {},
   "outputs": [
    {
     "data": {
      "text/plain": [
       "11"
      ]
     },
     "execution_count": 18,
     "metadata": {},
     "output_type": "execute_result"
    }
   ],
   "source": [
    "def toBinary(number):\n",
    "    if(number == 1):\n",
    "        return 1\n",
    "    return number % 2 + 10 * toBinary(int(number/2))      \n",
    "toBinary(3)"
   ]
  },
  {
   "cell_type": "code",
   "execution_count": null,
   "id": "f876d85b-5f5b-4fb1-b3b0-0bb1a200ca6d",
   "metadata": {},
   "outputs": [],
   "source": []
  }
 ],
 "metadata": {
  "kernelspec": {
   "display_name": "Python 3 (ipykernel)",
   "language": "python",
   "name": "python3"
  },
  "language_info": {
   "codemirror_mode": {
    "name": "ipython",
    "version": 3
   },
   "file_extension": ".py",
   "mimetype": "text/x-python",
   "name": "python",
   "nbconvert_exporter": "python",
   "pygments_lexer": "ipython3",
   "version": "3.11.2"
  }
 },
 "nbformat": 4,
 "nbformat_minor": 5
}
